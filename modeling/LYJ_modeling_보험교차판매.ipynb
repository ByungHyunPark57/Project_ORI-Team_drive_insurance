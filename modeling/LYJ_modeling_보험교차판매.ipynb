{
 "cells": [
  {
   "cell_type": "code",
   "execution_count": 1,
   "id": "59f714b6",
   "metadata": {},
   "outputs": [],
   "source": [
    "import pandas as pd"
   ]
  },
  {
   "cell_type": "code",
   "execution_count": 2,
   "id": "ba5f5a05",
   "metadata": {},
   "outputs": [],
   "source": [
    "train = pd.read_csv('/Users/lyeajin/Downloads/playground-series-s4e7/보험이진분류train.csv')"
   ]
  },
  {
   "cell_type": "code",
   "execution_count": 3,
   "id": "1914f433",
   "metadata": {},
   "outputs": [],
   "source": [
    "test = pd.read_csv('/Users/lyeajin/Downloads/playground-series-s4e7/test보험이진분류.csv')"
   ]
  },
  {
   "cell_type": "code",
   "execution_count": 4,
   "id": "be023da7",
   "metadata": {},
   "outputs": [],
   "source": [
    "df = pd.read_csv(\"/Users/lyeajin/Downloads/train-3.csv\")"
   ]
  },
  {
   "cell_type": "code",
   "execution_count": 5,
   "id": "1bf950cc",
   "metadata": {},
   "outputs": [],
   "source": [
    "train = pd.concat([train, df], ignore_index=True)"
   ]
  },
  {
   "cell_type": "code",
   "execution_count": 6,
   "id": "ffe77947",
   "metadata": {},
   "outputs": [],
   "source": [
    "train = train.drop('id', axis=1)\n",
    "test = test.drop('id', axis=1)"
   ]
  },
  {
   "cell_type": "code",
   "execution_count": 7,
   "id": "cd28f2d0",
   "metadata": {},
   "outputs": [],
   "source": [
    "train[\"car_sum\"] = train[\"Vehicle_Damage\"].astype(\"str\") + train[\"Driving_License\"].astype(\"str\") + train[\"Previously_Insured\"].astype(\"str\")\n",
    "train[\"car_sum\"] = train[\"car_sum\"].astype(\"category\").cat.codes\n",
    "\n",
    "test[\"car_sum\"] = test[\"Vehicle_Damage\"].astype(\"str\") + test[\"Driving_License\"].astype(\"str\") + test[\"Previously_Insured\"].astype(\"str\")\n",
    "test[\"car_sum\"] = test[\"car_sum\"].astype(\"category\").cat.codes"
   ]
  },
  {
   "cell_type": "code",
   "execution_count": 8,
   "id": "5e0f3cec",
   "metadata": {},
   "outputs": [],
   "source": [
    "gender_dummies = pd.get_dummies(train['Gender'], prefix='Gender')\n",
    "train = pd.concat([train, gender_dummies], axis=1)\n",
    "\n",
    "vehicle_age_dummies = pd.get_dummies(train['Vehicle_Age'], prefix='Vehicle_Age')\n",
    "train = pd.concat([train, vehicle_age_dummies], axis=1)\n",
    "\n",
    "vehicle_damage_dummies = pd.get_dummies(train['Vehicle_Damage'], prefix='Vehicle_Damage')\n",
    "train = pd.concat([train, vehicle_damage_dummies], axis=1)"
   ]
  },
  {
   "cell_type": "code",
   "execution_count": 9,
   "id": "1cb3ad8a",
   "metadata": {},
   "outputs": [],
   "source": [
    "gender_dummies_test = pd.get_dummies(test['Gender'], prefix='Gender')\n",
    "test = pd.concat([test, gender_dummies_test], axis=1)\n",
    "\n",
    "vehicle_age_dummies_test = pd.get_dummies(test['Vehicle_Age'], prefix='Vehicle_Age')\n",
    "test = pd.concat([test, vehicle_age_dummies_test], axis=1)\n",
    "\n",
    "vehicle_damage_dummies_test = pd.get_dummies(test['Vehicle_Damage'], prefix='Vehicle_Damage')\n",
    "test = pd.concat([test, vehicle_damage_dummies_test], axis=1)"
   ]
  },
  {
   "cell_type": "code",
   "execution_count": 10,
   "id": "ce5e6d5e",
   "metadata": {},
   "outputs": [],
   "source": [
    "#열 이름 변경 \n",
    "train.rename(columns={\n",
    "    'Vehicle_Age_1-2 Year': 'Vehicle_Age_1_2_Year',\n",
    "    'Vehicle_Age_< 1 Year': 'Vehicle_Age_lt_1_Year',\n",
    "    'Vehicle_Age_> 2 Years': 'Vehicle_Age_gt_2_Years'\n",
    "}, inplace=True)"
   ]
  },
  {
   "cell_type": "code",
   "execution_count": 11,
   "id": "de431976",
   "metadata": {},
   "outputs": [],
   "source": [
    "test.rename(columns={\n",
    "    'Vehicle_Age_1-2 Year': 'Vehicle_Age_1_2_Year',\n",
    "    'Vehicle_Age_< 1 Year': 'Vehicle_Age_lt_1_Year',\n",
    "    'Vehicle_Age_> 2 Years': 'Vehicle_Age_gt_2_Years'\n",
    "}, inplace=True)"
   ]
  },
  {
   "cell_type": "code",
   "execution_count": 12,
   "id": "30401ac6",
   "metadata": {},
   "outputs": [],
   "source": [
    "from sklearn.preprocessing import MinMaxScaler\n",
    "\n",
    "selected_columns = ['Annual_Premium', 'Policy_Sales_Channel', 'Vintage']\n",
    "minMax = MinMaxScaler()\n",
    "\n",
    "# 훈련 데이터와 테스트 데이터 스케일링\n",
    "train[selected_columns] = minMax.fit_transform(train[selected_columns])\n",
    "test[selected_columns] = minMax.transform(test[selected_columns])"
   ]
  },
  {
   "cell_type": "code",
   "execution_count": null,
   "id": "47e6f8b3",
   "metadata": {},
   "outputs": [],
   "source": [
    "pip install hyperopt"
   ]
  },
  {
   "cell_type": "code",
   "execution_count": 15,
   "id": "6036a25c",
   "metadata": {},
   "outputs": [],
   "source": [
    "import numpy as np\n",
    "import pandas as pd\n",
    "from sklearn.model_selection import train_test_split, StratifiedKFold\n",
    "from sklearn.metrics import roc_auc_score\n",
    "from catboost import CatBoostClassifier, Pool\n",
    "from hyperopt import hp, fmin, tpe, Trials, STATUS_OK\n",
    "\n",
    "# 데이터 전처리 및 분리\n",
    "X = train.drop(['Response', 'Gender', 'Vehicle_Age', 'Vehicle_Damage'], axis=1)  # 특징 열 선택\n",
    "y = train['Response']\n",
    "X_train, X_test, y_train, y_test = train_test_split(X, y, test_size=0.2, random_state=42)"
   ]
  },
  {
   "cell_type": "code",
   "execution_count": 16,
   "id": "df8c7887",
   "metadata": {},
   "outputs": [],
   "source": [
    "# 하이퍼파라미터 공간 정의\n",
    "param_space = {\n",
    "    'iterations': hp.quniform('iterations', 100, 1000, 100),\n",
    "    'learning_rate': hp.uniform('learning_rate', 0.01, 0.3),\n",
    "    'depth': hp.quniform('depth', 4, 10, 1),\n",
    "    'l2_leaf_reg': hp.loguniform('l2_leaf_reg', np.log(1e-3), np.log(10)),\n",
    "    'bagging_temperature': hp.uniform('bagging_temperature', 0, 1)\n",
    "}"
   ]
  },
  {
   "cell_type": "code",
   "execution_count": 17,
   "id": "931b178b",
   "metadata": {},
   "outputs": [],
   "source": [
    "# Stratified K-Fold 교차 검증 설정\n",
    "skf = StratifiedKFold(n_splits=3, shuffle=True, random_state=42)\n",
    "\n",
    "# 목표 함수 정의\n",
    "def objective(params):\n",
    "    clf = CatBoostClassifier(\n",
    "        iterations=int(params['iterations']),\n",
    "        learning_rate=params['learning_rate'],\n",
    "        depth=int(params['depth']),\n",
    "        loss_function='Logloss',\n",
    "        l2_leaf_reg=params['l2_leaf_reg'],\n",
    "        bagging_temperature=params['bagging_temperature'],\n",
    "        leaf_estimation_iterations=10,\n",
    "        logging_level='Silent',\n",
    "        random_seed=42\n",
    "    )\n",
    "    \n",
    "    auc_scores = []\n",
    "    for train_idx, valid_idx in skf.split(X_train, y_train):\n",
    "        print(\"Training fold...\")\n",
    "        X_tr, X_val = X_train.iloc[train_idx], X_train.iloc[valid_idx]\n",
    "        y_tr, y_val = y_train.iloc[train_idx], y_train.iloc[valid_idx]\n",
    "        \n",
    "        train_pool = Pool(X_tr, y_tr)\n",
    "        valid_pool = Pool(X_val, y_val)\n",
    "        \n",
    "        clf.fit(train_pool, eval_set=valid_pool, use_best_model=True)\n",
    "        \n",
    "        y_val_pred = clf.predict_proba(X_val)[:, 1]\n",
    "        auc = roc_auc_score(y_val, y_val_pred)\n",
    "        auc_scores.append(auc)\n",
    "    \n",
    "    mean_auc = np.mean(auc_scores)\n",
    "    print(f\"Mean AUC: {mean_auc}\")\n",
    "    return {'loss': -mean_auc, 'status': STATUS_OK}"
   ]
  },
  {
   "cell_type": "code",
   "execution_count": 18,
   "id": "76390b28",
   "metadata": {},
   "outputs": [
    {
     "name": "stdout",
     "output_type": "stream",
     "text": [
      "Training fold...                                                                \n",
      "Training fold...                                                                \n",
      "Training fold...                                                                \n",
      "Mean AUC: 0.8794752322337955                                                    \n",
      "Training fold...                                                                \n",
      "Training fold...                                                                \n",
      "Training fold...                                                                \n",
      "Mean AUC: 0.8753220087901806                                                    \n",
      "Training fold...                                                                \n",
      "Training fold...                                                                \n",
      "Training fold...                                                                \n",
      "Mean AUC: 0.8727898191400257                                                    \n",
      "Training fold...                                                                \n",
      "Training fold...                                                                \n",
      "Training fold...                                                                \n",
      "Mean AUC: 0.8783264282913313                                                    \n",
      "Training fold...                                                                \n",
      "Training fold...                                                                \n",
      "Training fold...                                                                \n",
      "Mean AUC: 0.8765998245342063                                                    \n",
      "Training fold...                                                                \n",
      "Training fold...                                                                \n",
      "Training fold...                                                                \n",
      "Mean AUC: 0.8788927455683476                                                    \n",
      "Training fold...                                                                \n",
      "Training fold...                                                                \n",
      "Training fold...                                                                \n",
      "Mean AUC: 0.8773028637724778                                                    \n",
      "Training fold...                                                                \n",
      "Training fold...                                                                \n",
      "Training fold...                                                                \n",
      "Mean AUC: 0.8718112745220253                                                    \n",
      "Training fold...                                                                \n",
      "Training fold...                                                                \n",
      "Training fold...                                                                \n",
      "Mean AUC: 0.8728650870099793                                                    \n",
      "Training fold...                                                                \n",
      "Training fold...                                                                \n",
      "Training fold...                                                                \n",
      "Mean AUC: 0.8773176329805686                                                    \n",
      "Training fold...                                                                \n",
      "Training fold...                                                                \n",
      "Training fold...                                                                \n",
      "Mean AUC: 0.8680012333999424                                                    \n",
      "Training fold...                                                                \n",
      "Training fold...                                                                \n",
      "Training fold...                                                                \n",
      "Mean AUC: 0.8756376321874907                                                    \n",
      "Training fold...                                                                \n",
      "Training fold...                                                                \n",
      "Training fold...                                                                \n",
      "Mean AUC: 0.8748134627253542                                                    \n",
      "Training fold...                                                                \n",
      "Training fold...                                                                \n",
      "Training fold...                                                                \n",
      "Mean AUC: 0.8673168117450013                                                    \n",
      "Training fold...                                                                \n",
      "Training fold...                                                                \n",
      "Training fold...                                                                \n",
      "Mean AUC: 0.8694075972819552                                                    \n",
      "Training fold...                                                                \n",
      "Training fold...                                                                \n",
      "Training fold...                                                                \n",
      "Mean AUC: 0.8773977987783331                                                    \n",
      "Training fold...                                                                \n",
      "Training fold...                                                                \n",
      "Training fold...                                                                \n",
      "Mean AUC: 0.8795239569094173                                                    \n",
      "Training fold...                                                                \n",
      "Training fold...                                                                \n",
      "Training fold...                                                                \n",
      "Mean AUC: 0.8768889666852572                                                    \n",
      "Training fold...                                                                \n",
      "Training fold...                                                                \n",
      "Training fold...                                                                \n",
      "Mean AUC: 0.8709778312786579                                                    \n",
      "Training fold...                                                                \n",
      "Training fold...                                                                \n",
      "Training fold...                                                                \n",
      "Mean AUC: 0.8780877083874356                                                    \n",
      "Training fold...                                                                \n",
      "Training fold...                                                                \n",
      "Training fold...                                                                \n",
      "Mean AUC: 0.8790168771612384                                                    \n",
      "Training fold...                                                                \n",
      "Training fold...                                                                \n",
      "Training fold...                                                                \n",
      "Mean AUC: 0.8794735223178094                                                    \n",
      "Training fold...                                                                \n",
      "Training fold...                                                                \n",
      "Training fold...                                                                \n",
      "Mean AUC: 0.8793148678230437                                                    \n",
      "Training fold...                                                                \n",
      "Training fold...                                                                \n",
      "Training fold...                                                                \n",
      "Mean AUC: 0.8794933595106113                                                    \n",
      "Training fold...                                                                \n",
      "Training fold...                                                                \n",
      "Training fold...                                                                \n",
      "Mean AUC: 0.8794972767814441                                                    \n",
      "100%|████| 25/25 [7:15:06<00:00, 1044.27s/trial, best loss: -0.8795239569094173]\n",
      "Best Parameters: {'bagging_temperature': 0.3104380862936379, 'depth': 7.0, 'iterations': 800.0, 'l2_leaf_reg': 1.8044043681952355, 'learning_rate': 0.26585760544264325}\n"
     ]
    }
   ],
   "source": [
    "# Trials 객체 생성\n",
    "trials = Trials()\n",
    "\n",
    "# 베이지안 최적화 수행\n",
    "best_params = fmin(fn=objective,\n",
    "                   space=param_space,\n",
    "                   algo=tpe.suggest,\n",
    "                   max_evals=25,\n",
    "                   trials=trials,\n",
    "                   rstate=np.random.default_rng(42))\n",
    "\n",
    "# 최적 하이퍼파라미터 출력\n",
    "print(\"Best Parameters:\", best_params)"
   ]
  },
  {
   "cell_type": "code",
   "execution_count": 19,
   "id": "7016087c",
   "metadata": {},
   "outputs": [],
   "source": [
    "# 최적의 하이퍼파라미터를 사용하여 최종 모델 훈련\n",
    "model = CatBoostClassifier(\n",
    "    iterations=best_params['iterations'],\n",
    "    learning_rate=best_params['learning_rate'],\n",
    "    loss_function='Logloss',\n",
    "    depth=best_params['depth'],\n",
    "    l2_leaf_reg=best_params['l2_leaf_reg'],\n",
    "    bagging_temperature=best_params['bagging_temperature'],\n",
    "    eval_metric='AUC',\n",
    "    leaf_estimation_iterations=10,\n",
    "    use_best_model=True,\n",
    "    logging_level='Silent',\n",
    "    random_seed=42\n",
    ")\n",
    "\n",
    "# train_pool 및 eval_set 정의 (eval_set는 검증 데이터를 의미)\n",
    "train_pool = Pool(X_train, y_train)\n",
    "eval_pool = Pool(X_test, y_test)"
   ]
  },
  {
   "cell_type": "code",
   "execution_count": 20,
   "id": "7736f6b2",
   "metadata": {},
   "outputs": [
    {
     "data": {
      "text/plain": [
       "<catboost.core.CatBoostClassifier at 0x1403abe10>"
      ]
     },
     "execution_count": 20,
     "metadata": {},
     "output_type": "execute_result"
    }
   ],
   "source": [
    "# 모델 훈련\n",
    "model.fit(train_pool, eval_set=eval_pool)"
   ]
  },
  {
   "cell_type": "code",
   "execution_count": 21,
   "id": "f209d0b1",
   "metadata": {},
   "outputs": [
    {
     "name": "stdout",
     "output_type": "stream",
     "text": [
      "ROC AUC Score: 0.8796906865419061\n"
     ]
    }
   ],
   "source": [
    "# 테스트 세트 예측 및 평가\n",
    "y_pred_proba = model.predict_proba(X_test)[:, 1]  # 양성 클래스의 확률을 사용\n",
    "roc_auc = roc_auc_score(y_test, y_pred_proba)\n",
    "print(\"ROC AUC Score:\", roc_auc)"
   ]
  },
  {
   "cell_type": "code",
   "execution_count": null,
   "id": "2f612ba9",
   "metadata": {},
   "outputs": [],
   "source": [
    "submission = pd.read_csv('')"
   ]
  }
 ],
 "metadata": {
  "kernelspec": {
   "display_name": "Python 3 (ipykernel)",
   "language": "python",
   "name": "python3"
  },
  "language_info": {
   "codemirror_mode": {
    "name": "ipython",
    "version": 3
   },
   "file_extension": ".py",
   "mimetype": "text/x-python",
   "name": "python",
   "nbconvert_exporter": "python",
   "pygments_lexer": "ipython3",
   "version": "3.11.4"
  }
 },
 "nbformat": 4,
 "nbformat_minor": 5
}
